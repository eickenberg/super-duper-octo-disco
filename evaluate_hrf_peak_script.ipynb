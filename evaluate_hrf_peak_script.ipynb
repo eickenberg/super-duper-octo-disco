{
 "cells": [
  {
   "cell_type": "code",
   "execution_count": 1,
   "metadata": {
    "collapsed": true
   },
   "outputs": [],
   "source": [
    "%matplotlib inline\n",
    "import matplotlib.pyplot as plt\n",
    "import numpy as np\n"
   ]
  },
  {
   "cell_type": "code",
   "execution_count": 71,
   "metadata": {
    "collapsed": false
   },
   "outputs": [
    {
     "name": "stdout",
     "output_type": "stream",
     "text": [
      "Generation peak 3 Estimation peak 3 Fold 0\n",
      "Generation peak 3 Estimation peak 4 Fold 0\n",
      "Generation peak 3 Estimation peak 5 Fold 0\n",
      "Generation peak 3 Estimation peak 6 Fold 0\n",
      "Generation peak 3 Estimation peak 7 Fold 0\n",
      "Generation peak 3 Estimation peak 8 Fold 0\n",
      "Generation peak 3 Estimation peak 9 Fold 0\n",
      "Generation peak 3 Estimation peak 3 Fold 1\n",
      "Generation peak 3 Estimation peak 4 Fold 1\n",
      "Generation peak 3 Estimation peak 5 Fold 1\n",
      "Generation peak 3 Estimation peak 6 Fold 1\n",
      "Generation peak 3 Estimation peak 7 Fold 1\n",
      "Generation peak 3 Estimation peak 8 Fold 1\n",
      "Generation peak 3 Estimation peak 9 Fold 1\n",
      "Generation peak 3 Estimation peak 3 Fold 2\n",
      "Generation peak 3 Estimation peak 4 Fold 2\n",
      "Generation peak 3 Estimation peak 5 Fold 2\n",
      "Generation peak 3 Estimation peak 6 Fold 2\n",
      "Generation peak 3 Estimation peak 7 Fold 2\n",
      "Generation peak 3 Estimation peak 8 Fold 2\n",
      "Generation peak 3 Estimation peak 9 Fold 2\n",
      "Generation peak 4 Estimation peak 3 Fold 0\n",
      "Generation peak 4 Estimation peak 4 Fold 0\n",
      "Generation peak 4 Estimation peak 5 Fold 0\n",
      "Generation peak 4 Estimation peak 6 Fold 0\n",
      "Generation peak 4 Estimation peak 7 Fold 0\n",
      "Generation peak 4 Estimation peak 8 Fold 0\n",
      "Generation peak 4 Estimation peak 9 Fold 0\n",
      "Generation peak 4 Estimation peak 3 Fold 1\n",
      "Generation peak 4 Estimation peak 4 Fold 1\n",
      "Generation peak 4 Estimation peak 5 Fold 1\n",
      "Generation peak 4 Estimation peak 6 Fold 1\n",
      "Generation peak 4 Estimation peak 7 Fold 1\n",
      "Generation peak 4 Estimation peak 8 Fold 1\n",
      "Generation peak 4 Estimation peak 9 Fold 1\n",
      "Generation peak 4 Estimation peak 3 Fold 2\n",
      "Generation peak 4 Estimation peak 4 Fold 2\n",
      "Generation peak 4 Estimation peak 5 Fold 2\n",
      "Generation peak 4 Estimation peak 6 Fold 2\n",
      "Generation peak 4 Estimation peak 7 Fold 2\n",
      "Generation peak 4 Estimation peak 8 Fold 2\n",
      "Generation peak 4 Estimation peak 9 Fold 2\n",
      "Generation peak 5 Estimation peak 3 Fold 0\n",
      "Generation peak 5 Estimation peak 4 Fold 0\n",
      "Generation peak 5 Estimation peak 5 Fold 0\n",
      "Generation peak 5 Estimation peak 6 Fold 0\n",
      "Generation peak 5 Estimation peak 7 Fold 0\n",
      "Generation peak 5 Estimation peak 8 Fold 0\n",
      "Generation peak 5 Estimation peak 9 Fold 0\n",
      "Generation peak 5 Estimation peak 3 Fold 1\n",
      "Generation peak 5 Estimation peak 4 Fold 1\n",
      "Generation peak 5 Estimation peak 5 Fold 1\n",
      "Generation peak 5 Estimation peak 6 Fold 1\n",
      "Generation peak 5 Estimation peak 7 Fold 1\n",
      "Generation peak 5 Estimation peak 8 Fold 1\n",
      "Generation peak 5 Estimation peak 9 Fold 1\n",
      "Generation peak 5 Estimation peak 3 Fold 2\n",
      "Generation peak 5 Estimation peak 4 Fold 2\n",
      "Generation peak 5 Estimation peak 5 Fold 2\n",
      "Generation peak 5 Estimation peak 6 Fold 2\n",
      "Generation peak 5 Estimation peak 7 Fold 2\n",
      "Generation peak 5 Estimation peak 8 Fold 2\n",
      "Generation peak 5 Estimation peak 9 Fold 2\n",
      "Generation peak 6 Estimation peak 3 Fold 0\n",
      "Generation peak 6 Estimation peak 4 Fold 0\n",
      "Generation peak 6 Estimation peak 5 Fold 0\n",
      "Generation peak 6 Estimation peak 6 Fold 0\n",
      "Generation peak 6 Estimation peak 7 Fold 0\n",
      "Generation peak 6 Estimation peak 8 Fold 0\n",
      "Generation peak 6 Estimation peak 9 Fold 0\n",
      "Generation peak 6 Estimation peak 3 Fold 1\n",
      "Generation peak 6 Estimation peak 4 Fold 1\n",
      "Generation peak 6 Estimation peak 5 Fold 1\n",
      "Generation peak 6 Estimation peak 6 Fold 1\n",
      "Generation peak 6 Estimation peak 7 Fold 1\n",
      "Generation peak 6 Estimation peak 8 Fold 1\n",
      "Generation peak 6 Estimation peak 9 Fold 1\n",
      "Generation peak 6 Estimation peak 3 Fold 2\n",
      "Generation peak 6 Estimation peak 4 Fold 2\n",
      "Generation peak 6 Estimation peak 5 Fold 2\n",
      "Generation peak 6 Estimation peak 6 Fold 2\n",
      "Generation peak 6 Estimation peak 7 Fold 2\n",
      "Generation peak 6 Estimation peak 8 Fold 2\n",
      "Generation peak 6 Estimation peak 9 Fold 2\n",
      "Generation peak 7 Estimation peak 3 Fold 0\n",
      "Generation peak 7 Estimation peak 4 Fold 0\n",
      "Generation peak 7 Estimation peak 5 Fold 0\n",
      "Generation peak 7 Estimation peak 6 Fold 0\n",
      "Generation peak 7 Estimation peak 7 Fold 0\n",
      "Generation peak 7 Estimation peak 8 Fold 0\n",
      "Generation peak 7 Estimation peak 9 Fold 0\n",
      "Generation peak 7 Estimation peak 3 Fold 1\n",
      "Generation peak 7 Estimation peak 4 Fold 1\n",
      "Generation peak 7 Estimation peak 5 Fold 1\n",
      "Generation peak 7 Estimation peak 6 Fold 1\n",
      "Generation peak 7 Estimation peak 7 Fold 1\n",
      "Generation peak 7 Estimation peak 8 Fold 1\n",
      "Generation peak 7 Estimation peak 9 Fold 1\n",
      "Generation peak 7 Estimation peak 3 Fold 2\n",
      "Generation peak 7 Estimation peak 4 Fold 2\n",
      "Generation peak 7 Estimation peak 5 Fold 2\n",
      "Generation peak 7 Estimation peak 6 Fold 2\n",
      "Generation peak 7 Estimation peak 7 Fold 2\n",
      "Generation peak 7 Estimation peak 8 Fold 2\n",
      "Generation peak 7 Estimation peak 9 Fold 2\n",
      "Generation peak 8 Estimation peak 3 Fold 0\n",
      "Generation peak 8 Estimation peak 4 Fold 0\n",
      "Generation peak 8 Estimation peak 5 Fold 0\n",
      "Generation peak 8 Estimation peak 6 Fold 0\n",
      "Generation peak 8 Estimation peak 7 Fold 0\n",
      "Generation peak 8 Estimation peak 8 Fold 0\n",
      "Generation peak 8 Estimation peak 9 Fold 0\n",
      "Generation peak 8 Estimation peak 3 Fold 1\n",
      "Generation peak 8 Estimation peak 4 Fold 1\n",
      "Generation peak 8 Estimation peak 5 Fold 1\n",
      "Generation peak 8 Estimation peak 6 Fold 1\n",
      "Generation peak 8 Estimation peak 7 Fold 1\n",
      "Generation peak 8 Estimation peak 8 Fold 1\n",
      "Generation peak 8 Estimation peak 9 Fold 1\n",
      "Generation peak 8 Estimation peak 3 Fold 2\n",
      "Generation peak 8 Estimation peak 4 Fold 2\n",
      "Generation peak 8 Estimation peak 5 Fold 2\n",
      "Generation peak 8 Estimation peak 6 Fold 2\n",
      "Generation peak 8 Estimation peak 7 Fold 2\n",
      "Generation peak 8 Estimation peak 8 Fold 2\n",
      "Generation peak 8 Estimation peak 9 Fold 2\n",
      "Generation peak 9 Estimation peak 3 Fold 0\n",
      "Generation peak 9 Estimation peak 4 Fold 0\n",
      "Generation peak 9 Estimation peak 5 Fold 0\n",
      "Generation peak 9 Estimation peak 6 Fold 0\n",
      "Generation peak 9 Estimation peak 7 Fold 0\n",
      "Generation peak 9 Estimation peak 8 Fold 0\n",
      "Generation peak 9 Estimation peak 9 Fold 0\n",
      "Generation peak 9 Estimation peak 3 Fold 1\n",
      "Generation peak 9 Estimation peak 4 Fold 1\n",
      "Generation peak 9 Estimation peak 5 Fold 1\n",
      "Generation peak 9 Estimation peak 6 Fold 1\n",
      "Generation peak 9 Estimation peak 7 Fold 1\n",
      "Generation peak 9 Estimation peak 8 Fold 1\n",
      "Generation peak 9 Estimation peak 9 Fold 1\n",
      "Generation peak 9 Estimation peak 3 Fold 2\n",
      "Generation peak 9 Estimation peak 4 Fold 2\n",
      "Generation peak 9 Estimation peak 5 Fold 2\n",
      "Generation peak 9 Estimation peak 6 Fold 2\n",
      "Generation peak 9 Estimation peak 7 Fold 2\n",
      "Generation peak 9 Estimation peak 8 Fold 2\n",
      "Generation peak 9 Estimation peak 9 Fold 2\n"
     ]
    }
   ],
   "source": [
    "run script_held_out_prediction.py"
   ]
  },
  {
   "cell_type": "code",
   "execution_count": 72,
   "metadata": {
    "collapsed": false
   },
   "outputs": [],
   "source": [
    "train_train_norms = train_gen_train_est.reshape(7, 7, 3, 7, 4).mean(2).mean(-1)"
   ]
  },
  {
   "cell_type": "code",
   "execution_count": 74,
   "metadata": {
    "collapsed": false
   },
   "outputs": [
    {
     "data": {
      "text/plain": [
       "array([  1.00000000e+00,   1.00000000e-01,   2.00000000e+00,\n",
       "         1.00000000e-02,   1.00000000e+01,   0.00000000e+00,\n",
       "         1.00000000e+02])"
      ]
     },
     "execution_count": 74,
     "metadata": {},
     "output_type": "execute_result"
    },
    {
     "data": {
      "image/png": "[encoded data removed]",
      "text/plain": [
       "<matplotlib.figure.Figure at 0x7fdf83216d10>"
      ]
     },
     "metadata": {},
     "output_type": "display_data"
    }
   ],
   "source": [
    "plt.figure(figsize=(16, 8))\n",
    "for i in range(7):\n",
    "    plt.subplot(2, 4, i + 1)\n",
    "    plt.imshow(train_train_norms[..., i], interpolation='nearest')\n",
    "    plt.colorbar()\n",
    "noise_levels"
   ]
  },
  {
   "cell_type": "code",
   "execution_count": 75,
   "metadata": {
    "collapsed": false
   },
   "outputs": [
    {
     "data": {
      "text/plain": [
       "(7, 7, 3, 28)"
      ]
     },
     "execution_count": 75,
     "metadata": {},
     "output_type": "execute_result"
    }
   ],
   "source": [
    "train_test_norms = train_gen_test_est.reshape(7, 7, 3, 7, 4).mean(2).mean(-1)\n",
    "train_gen_test_est.shape"
   ]
  },
  {
   "cell_type": "code",
   "execution_count": 76,
   "metadata": {
    "collapsed": false
   },
   "outputs": [
    {
     "data": {
      "text/plain": [
       "array([  1.00000000e+00,   1.00000000e-01,   2.00000000e+00,\n",
       "         1.00000000e-02,   1.00000000e+01,   0.00000000e+00,\n",
       "         1.00000000e+02])"
      ]
     },
     "execution_count": 76,
     "metadata": {},
     "output_type": "execute_result"
    },
    {
     "data": {
      "image/png": "[encoded data removed]",
      "text/plain": [
       "<matplotlib.figure.Figure at 0x7fdf8244cd10>"
      ]
     },
     "metadata": {},
     "output_type": "display_data"
    }
   ],
   "source": [
    "plt.figure(figsize=(16, 8))\n",
    "for i in range(7):\n",
    "    plt.subplot(2, 4, i + 1)\n",
    "    plt.imshow(train_test_norms[..., i], interpolation='nearest')\n",
    "#    plt.imshow(train_gen_test_est[:, :,0, i + 18], interpolation='nearest')\n",
    "\n",
    "    plt.colorbar()\n",
    "noise_levels\n"
   ]
  },
  {
   "cell_type": "code",
   "execution_count": 58,
   "metadata": {
    "collapsed": false
   },
   "outputs": [
    {
     "data": {
      "text/plain": [
       "<matplotlib.image.AxesImage at 0x7fdf831084d0>"
      ]
     },
     "execution_count": 58,
     "metadata": {},
     "output_type": "execute_result"
    },
    {
     "data": {
      "image/png": "[encoded data removed]",
      "text/plain": [
       "<matplotlib.figure.Figure at 0x7fdf882dbd50>"
      ]
     },
     "metadata": {},
     "output_type": "display_data"
    }
   ],
   "source": [
    "plt.matshow(test_est_test_est.mean(-1).mean(-1))"
   ]
  },
  {
   "cell_type": "code",
   "execution_count": 21,
   "metadata": {
    "collapsed": false
   },
   "outputs": [
    {
     "data": {
      "text/plain": [
       "(385,)"
      ]
     },
     "execution_count": 21,
     "metadata": {},
     "output_type": "execute_result"
    }
   ],
   "source": [
    "y_test.shape"
   ]
  },
  {
   "cell_type": "code",
   "execution_count": 59,
   "metadata": {
    "collapsed": false
   },
   "outputs": [
    {
     "data": {
      "text/plain": [
       "0.02908878035713966"
      ]
     },
     "execution_count": 59,
     "metadata": {},
     "output_type": "execute_result"
    }
   ],
   "source": [
    "np.diff(y_pred_est, axis=1).max()"
   ]
  },
  {
   "cell_type": "code",
   "execution_count": 27,
   "metadata": {
    "collapsed": false
   },
   "outputs": [
    {
     "data": {
      "text/plain": [
       "0.0095584350238670079"
      ]
     },
     "execution_count": 27,
     "metadata": {},
     "output_type": "execute_result"
    }
   ],
   "source": [
    "y_pred_est.max()"
   ]
  },
  {
   "cell_type": "code",
   "execution_count": 28,
   "metadata": {
    "collapsed": false
   },
   "outputs": [
    {
     "data": {
      "text/plain": [
       "(770, 20)"
      ]
     },
     "execution_count": 28,
     "metadata": {},
     "output_type": "execute_result"
    }
   ],
   "source": [
    "y_train_noisy.shape"
   ]
  },
  {
   "cell_type": "code",
   "execution_count": 64,
   "metadata": {
    "collapsed": false
   },
   "outputs": [
    {
     "data": {
      "text/plain": [
       "<matplotlib.image.AxesImage at 0x7fdf896f7f10>"
      ]
     },
     "execution_count": 64,
     "metadata": {},
     "output_type": "execute_result"
    },
    {
     "data": {
      "image/png": "[encoded data removed]",
      "text/plain": [
       "<matplotlib.figure.Figure at 0x7fdf8803fe90>"
      ]
     },
     "metadata": {},
     "output_type": "display_data"
    }
   ],
   "source": [
    "plt.matshow(beta_hat_est.reshape(2, 6, 4)[:, :, 0])"
   ]
  },
  {
   "cell_type": "code",
   "execution_count": 65,
   "metadata": {
    "collapsed": false
   },
   "outputs": [
    {
     "data": {
      "text/plain": [
       "<matplotlib.image.AxesImage at 0x7fdf835aff50>"
      ]
     },
     "execution_count": 65,
     "metadata": {},
     "output_type": "execute_result"
    },
    {
     "data": {
      "image/png": "[encoded data removed]",
      "text/plain": [
       "<matplotlib.figure.Figure at 0x7fdf89b39450>"
      ]
     },
     "metadata": {},
     "output_type": "display_data"
    }
   ],
   "source": [
    "plt.matshow(beta_hat_gen.reshape(2, 6, 4)[:, :, 0])"
   ]
  },
  {
   "cell_type": "code",
   "execution_count": 61,
   "metadata": {
    "collapsed": false
   },
   "outputs": [
    {
     "data": {
      "text/plain": [
       "<matplotlib.image.AxesImage at 0x7fdf8339b110>"
      ]
     },
     "execution_count": 61,
     "metadata": {},
     "output_type": "execute_result"
    },
    {
     "data": {
      "image/png": "[encoded data removed]",
      "text/plain": [
       "<matplotlib.figure.Figure at 0x7fdf885dad90>"
      ]
     },
     "metadata": {},
     "output_type": "display_data"
    }
   ],
   "source": [
    "plt.matshow(y_pred_est.reshape(385, 6, 4).mean(-1)[:50].T)"
   ]
  },
  {
   "cell_type": "code",
   "execution_count": 62,
   "metadata": {
    "collapsed": false
   },
   "outputs": [
    {
     "data": {
      "text/plain": [
       "array([[  0.00000000e+00,   0.00000000e+00,   0.00000000e+00,\n",
       "          0.00000000e+00,   0.00000000e+00],\n",
       "       [  0.00000000e+00,   0.00000000e+00,   0.00000000e+00,\n",
       "          0.00000000e+00,   0.00000000e+00],\n",
       "       [  0.00000000e+00,   0.00000000e+00,   0.00000000e+00,\n",
       "          0.00000000e+00,   0.00000000e+00],\n",
       "       ..., \n",
       "       [  1.54252202e-06,  -3.25643537e-06,   3.41068758e-06,\n",
       "         -1.71219944e-05,  -1.54252202e-04],\n",
       "       [  6.90991326e-06,  -1.45875947e-05,   1.52785860e-05,\n",
       "         -7.67000371e-05,  -6.90991326e-04],\n",
       "       [  6.61444424e-06,  -1.39638267e-05,   1.46252711e-05,\n",
       "         -7.34203310e-05,  -6.61444424e-04]])"
      ]
     },
     "execution_count": 62,
     "metadata": {},
     "output_type": "execute_result"
    }
   ],
   "source": [
    "np.diff(y_pred_est.reshape(385, 6, 4).mean(-1), axis=1)"
   ]
  },
  {
   "cell_type": "code",
   "execution_count": null,
   "metadata": {
    "collapsed": true
   },
   "outputs": [],
   "source": []
  }
 ],
 "metadata": {
  "kernelspec": {
   "display_name": "Python 2",
   "language": "python",
   "name": "python2"
  },
  "language_info": {
   "codemirror_mode": {
    "name": "ipython",
    "version": 2
   },
   "file_extension": ".py",
   "mimetype": "text/x-python",
   "name": "python",
   "nbconvert_exporter": "python",
   "pygments_lexer": "ipython2",
   "version": "2.7.10"
  }
 },
 "nbformat": 4,
 "nbformat_minor": 0
}
