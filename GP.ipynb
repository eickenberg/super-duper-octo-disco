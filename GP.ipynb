{
 "cells": [
  {
   "cell_type": "code",
   "execution_count": 1,
   "metadata": {
    "collapsed": true
   },
   "outputs": [],
   "source": [
    "%matplotlib inline\n",
    "import matplotlib.pyplot as plt\n",
    "import numpy as np\n"
   ]
  },
  {
   "cell_type": "markdown",
   "metadata": {},
   "source": [
    "## Looking at the HRF as a Gaussian process\n",
    "\n",
    "The haemodynamic response function in BOLD fMRI is a impulse response to neural activity. Its characteristic shape can be described in a stylized manner as a difference of gamma functions, but in reality, not all HRFs adhere to that shape, and they vary significantly across the brain.\n",
    "\n",
    "It thus becomes interesting to estimate the HRF. If event presentation times and measurement times can be placed on the same temporal grid (e.g. event presentation every 4 seconds, measurement every 2 seconds -> grid of 2 seconds), then one can attempt to estimate the HRF as a simple vector of entries covering a certain number of measurement points.\n",
    "\n",
    "If the greatest common divisor of the event presentation and measurement grids is very small, then the HRF has to be oversampled strongly in order to accommodate both grids adequately. This necessitates more data and smoothness priors to be able to calculate a good estimate.\n",
    "\n",
    "Taking one step further, one can assume the HRF to be an entirely continuous function, drawn from a distribution of functions. The usual choice of distribution on functions is the Gaussian Process distribution."
   ]
  },
  {
   "cell_type": "code",
   "execution_count": 2,
   "metadata": {
    "collapsed": false
   },
   "outputs": [],
   "source": [
    "from nistats import hemodynamic_models"
   ]
  },
  {
   "cell_type": "code",
   "execution_count": 3,
   "metadata": {
    "collapsed": false
   },
   "outputs": [
    {
     "data": {
      "text/plain": [
       "[<matplotlib.lines.Line2D at 0x7ffda6d5cb10>]"
      ]
     },
     "execution_count": 3,
     "metadata": {},
     "output_type": "execute_result"
    },
    {
     "data": {
      "image/png": "[encoded data removed]",
      "text/plain": [
       "<matplotlib.figure.Figure at 0x7ffdc80fcd50>"
      ]
     },
     "metadata": {},
     "output_type": "display_data"
    }
   ],
   "source": [
    "TR, oversampling, time_length = 2., 16., 32.\n",
    "hrf = hemodynamic_models.glover_hrf(tr=TR, oversampling=oversampling)\n",
    "plt.plot(np.arange(0., time_length, TR / oversampling), hrf)"
   ]
  },
  {
   "cell_type": "markdown",
   "metadata": {},
   "source": [
    "## Estimating a Gaussian Process\n",
    "\n",
    "The Gaussian process distribution is a distribution over functions such that when evaluated on a finite number of points, the covariance matrix of the function values is defined by a pairwise kernel function.\n",
    "\n",
    "Differently put, a function $f:\\mathbb{R}\\rightarrow\\mathbb{R}$ is a Gaussian process if for all $x\\in\\mathbb R$, $f(x)$ is a random variable and that for all $x_1, \\dots, x_n\\in\\mathbb R$ the vector $(f(x_1), \\dots, f(x_n))^T$ follows a Gaussian distribution with mean $(\\mu(x_1), \\dots, \\mu(x_n))^T$ and covariance $K$ with $$K = \\left(\\begin{array}{cccc}k(x_1, x_1) & k(x_1, x_2) & \\dots & k(x_1, x_n)\\\\\\vdots & \\ddots & {} & \\vdots\\\\k(x_{n-1}, x_1) & {} & \\ddots & {}\\\\k(x_n, x_1) & \\dots & \\dots & k(x_n, x_n)\\end{array}\\right),$$\n",
    "where $k:\\mathbb R^2\\rightarrow\\mathbb R$ is the covariance function or covariance kernel. It must be *positive definite*, which means that all covariance matrices it gives rise to must be positive semi-definite.\n",
    "\n",
    "If this is the case, we can write\n",
    "$$f\\sim\\mathcal{GP}(\\mu, k)$$\n",
    "\n",
    "So how does estimating one of these work? Well, measuring a Gaussian process, i.e. obtaining a function value, say in $x_1$, means that we know the value of the Gaussian random variable $f(x_1)$ to be e.g. $y_1$. Taking this information into account is thus equivalent to conditioning on $f(x_1) = y_1$. \n",
    "\n",
    "Now, a Gaussian distribution conditional to knowing some of its variable outcomes remains a Gaussian distribution, just with different parameters, and there is a closed form expression to obtain it.\n",
    "\n",
    "Let $y\\in\\mathbb{R}^N\\sim\\mathcal N(\\mu, \\Sigma)$ and let the values of $y_0, \\dots, y_{n-1}$ be known for $n < N$. Then what is the distribution of the remaining points? If we write $\\Sigma^{11}$ to be the covariance matrix of $y^1 = (y_0, \\dots, y_{n-1})$, $\\Sigma^{22}$ to be the covariance matrix of $y^2 = (y_n, \\dots, y_{N-1})$ and $\\Sigma^{21}$ to be the cross-covariance between the two, then we can write\n",
    "$$\\Sigma = \\left(\\begin{array}{c|c}\\Sigma^{11} & {\\Sigma^{21}}^T\\\\\\hline\\Sigma^{21}&\\Sigma^{22}\\end{array}\\right)$$\n",
    "If we further let $\\mu^1 = (\\mu_0,\\dots, \\mu_{n-1})^T$ and $\\mu^2 = (\\mu_n,\\dots,\\mu_{N-1})^T$, then \n",
    "$$y_2\\big|\\{y_1 = a\\}\\sim \\mathcal N(\\bar\\mu, \\bar\\Sigma)$$\n",
    "with $$\\bar \\mu = \\mu^2 - \\Sigma^{21}{\\Sigma^{11}}^{-1}(\\mu^1 - a)$$ and \n",
    "$$\\bar\\Sigma = \\Sigma^{22} - {\\Sigma^{21}}^T{\\Sigma^{11}}^{-1}\\Sigma^{21}$$\n",
    "\n",
    "This extends immediately to our Gaussian process setting, since all the points we will ever look at are going to be finite in number.\n",
    "\n",
    "### A minimal GP estimation example\n",
    "Let's take $f(x) = \\sin(x)$"
   ]
  },
  {
   "cell_type": "code",
   "execution_count": 4,
   "metadata": {
    "collapsed": true
   },
   "outputs": [],
   "source": [
    "def f(x):\n",
    "    return np.sin(x)"
   ]
  },
  {
   "cell_type": "code",
   "execution_count": 7,
   "metadata": {
    "collapsed": false
   },
   "outputs": [
    {
     "data": {
      "text/plain": [
       "<matplotlib.collections.LineCollection at 0x7ffda6a882d0>"
      ]
     },
     "execution_count": 7,
     "metadata": {},
     "output_type": "execute_result"
    },
    {
     "data": {
      "image/png": "[encoded data removed]",
      "text/plain": [
       "<matplotlib.figure.Figure at 0x7ffda6d33b10>"
      ]
     },
     "metadata": {},
     "output_type": "display_data"
    }
   ],
   "source": [
    "xs = np.arange(0, 4 * np.pi, 0.01)\n",
    "ys = f(xs)\n",
    "\n",
    "plt.plot(xs, ys)\n",
    "plt.axis([0, 4 * np.pi, -2, 2])\n",
    "plt.hlines([0], 0, 4 * np.pi)"
   ]
  },
  {
   "cell_type": "code",
   "execution_count": null,
   "metadata": {
    "collapsed": true
   },
   "outputs": [],
   "source": []
  }
 ],
 "metadata": {
  "kernelspec": {
   "display_name": "Python 2",
   "language": "python",
   "name": "python2"
  },
  "language_info": {
   "codemirror_mode": {
    "name": "ipython",
    "version": 2
   },
   "file_extension": ".py",
   "mimetype": "text/x-python",
   "name": "python",
   "nbconvert_exporter": "python",
   "pygments_lexer": "ipython2",
   "version": "2.7.10"
  }
 },
 "nbformat": 4,
 "nbformat_minor": 0
}
